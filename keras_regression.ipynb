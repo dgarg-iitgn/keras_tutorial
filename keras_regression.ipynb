{
 "cells": [
  {
   "cell_type": "code",
   "execution_count": 6,
   "metadata": {},
   "outputs": [],
   "source": [
    "import keras \n",
    "from keras.layers import *\n",
    "from keras.models import *\n",
    "from keras.losses import *\n",
    "import numpy as np"
   ]
  },
  {
   "cell_type": "code",
   "execution_count": 7,
   "metadata": {},
   "outputs": [],
   "source": [
    "x_train = np.random.uniform(0,1,[100000,15])\n",
    "y_train = np.random.uniform(0,1,[100000])"
   ]
  },
  {
   "cell_type": "code",
   "execution_count": 8,
   "metadata": {},
   "outputs": [
    {
     "name": "stdout",
     "output_type": "stream",
     "text": [
      "Epoch 1/10\n",
      "100000/100000 [==============================] - 1s 11us/step - loss: 0.1218\n",
      "Epoch 2/10\n",
      "100000/100000 [==============================] - 1s 9us/step - loss: 0.0864\n",
      "Epoch 3/10\n",
      "100000/100000 [==============================] - 1s 9us/step - loss: 0.0844\n",
      "Epoch 4/10\n",
      "100000/100000 [==============================] - 1s 9us/step - loss: 0.0838\n",
      "Epoch 5/10\n",
      "100000/100000 [==============================] - 1s 9us/step - loss: 0.0836\n",
      "Epoch 6/10\n",
      "100000/100000 [==============================] - 1s 9us/step - loss: 0.0835\n",
      "Epoch 7/10\n",
      "100000/100000 [==============================] - 1s 9us/step - loss: 0.0834\n",
      "Epoch 8/10\n",
      "100000/100000 [==============================] - 1s 11us/step - loss: 0.0834\n",
      "Epoch 9/10\n",
      "100000/100000 [==============================] - 1s 11us/step - loss: 0.0833\n",
      "Epoch 10/10\n",
      "100000/100000 [==============================] - 1s 11us/step - loss: 0.0833\n"
     ]
    },
    {
     "data": {
      "text/plain": [
       "<keras.callbacks.History at 0x11a8b4198>"
      ]
     },
     "execution_count": 8,
     "metadata": {},
     "output_type": "execute_result"
    }
   ],
   "source": [
    "model = Sequential()\n",
    "model.add(Dense(5,input_shape=[15]))\n",
    "model.add(Dense(1))\n",
    "model.compile(optimizer='SGD',loss='mean_squared_error')\n",
    "model.fit(x_train,y_train,batch_size=100,epochs= 10)"
   ]
  },
  {
   "cell_type": "markdown",
   "metadata": {},
   "source": [
    "testing"
   ]
  },
  {
   "cell_type": "code",
   "execution_count": null,
   "metadata": {},
   "outputs": [],
   "source": [
    "x_test = np.random.uniform(0,1,[100,15])\n",
    "y_pred = model.predict(x_train,batch_size=100)"
   ]
  },
  {
   "cell_type": "code",
   "execution_count": 9,
   "metadata": {},
   "outputs": [],
   "source": [
    "model.save('model.h5')\n",
    "del model"
   ]
  },
  {
   "cell_type": "code",
   "execution_count": 10,
   "metadata": {},
   "outputs": [
    {
     "name": "stdout",
     "output_type": "stream",
     "text": [
      "_________________________________________________________________\n",
      "Layer (type)                 Output Shape              Param #   \n",
      "=================================================================\n",
      "dense_3 (Dense)              (None, 5)                 80        \n",
      "_________________________________________________________________\n",
      "dense_4 (Dense)              (None, 1)                 6         \n",
      "=================================================================\n",
      "Total params: 86\n",
      "Trainable params: 86\n",
      "Non-trainable params: 0\n",
      "_________________________________________________________________\n",
      "None\n"
     ]
    }
   ],
   "source": [
    "model = load_model('model.h5')\n",
    "print(model.summary())"
   ]
  },
  {
   "cell_type": "code",
   "execution_count": 11,
   "metadata": {},
   "outputs": [
    {
     "name": "stdout",
     "output_type": "stream",
     "text": [
      "Epoch 1/10\n",
      "100000/100000 [==============================] - 1s 11us/step - loss: 0.0990\n",
      "Epoch 2/10\n",
      "100000/100000 [==============================] - 1s 12us/step - loss: 0.0844\n",
      "Epoch 3/10\n",
      "100000/100000 [==============================] - 1s 12us/step - loss: 0.0836\n",
      "Epoch 4/10\n",
      "100000/100000 [==============================] - 1s 12us/step - loss: 0.0834\n",
      "Epoch 5/10\n",
      "100000/100000 [==============================] - 1s 11us/step - loss: 0.0834\n",
      "Epoch 6/10\n",
      "100000/100000 [==============================] - 1s 12us/step - loss: 0.0834\n",
      "Epoch 7/10\n",
      "100000/100000 [==============================] - 1s 11us/step - loss: 0.0834\n",
      "Epoch 8/10\n",
      "100000/100000 [==============================] - 1s 12us/step - loss: 0.0834\n",
      "Epoch 9/10\n",
      "100000/100000 [==============================] - 1s 12us/step - loss: 0.0834\n",
      "Epoch 10/10\n",
      "100000/100000 [==============================] - 1s 11us/step - loss: 0.0834\n"
     ]
    },
    {
     "data": {
      "text/plain": [
       "<keras.callbacks.History at 0x11aaaaeb8>"
      ]
     },
     "execution_count": 11,
     "metadata": {},
     "output_type": "execute_result"
    }
   ],
   "source": [
    "from keras.callbacks import TensorBoard\n",
    "tensorboard = TensorBoard(log_dir='model-logs')\n",
    "model = Sequential()\n",
    "model.add(Dense(5,input_shape=[15]))\n",
    "model.add(Dense(1))\n",
    "model.compile(optimizer='SGD',loss='mean_squared_error')\n",
    "model.fit(x_train,y_train,batch_size=100,epochs= 10,callbacks=[tensorboard])"
   ]
  },
  {
   "cell_type": "code",
   "execution_count": null,
   "metadata": {},
   "outputs": [
    {
     "name": "stdout",
     "output_type": "stream",
     "text": [
      "/anaconda/envs/tfbeta3/lib/python3.6/importlib/_bootstrap.py:219: RuntimeWarning: compiletime version 3.5 of module 'tensorflow.python.framework.fast_tensor_util' does not match runtime version 3.6\n",
      "  return f(*args, **kwds)\n",
      "/anaconda/envs/tfbeta3/lib/python3.6/site-packages/h5py/__init__.py:36: FutureWarning: Conversion of the second argument of issubdtype from `float` to `np.floating` is deprecated. In future, it will be treated as `np.float64 == np.dtype(float).type`.\n",
      "  from ._conv import register_converters as _register_converters\n",
      "2018-03-26 19:23:37.046266: I tensorflow/core/platform/cpu_feature_guard.cc:140] Your CPU supports instructions that this TensorFlow binary was not compiled to use: AVX2 FMA\n",
      "\u001b[33mW0326 19:23:37.090310 Reloader tf_logging.py:121] Found more than one graph event per run, or there was a metagraph containing a graph_def, as well as one or more graph events.  Overwriting the graph with the newest event.\n",
      "\u001b[0m\u001b[33mW0326 19:23:37.092105 Reloader tf_logging.py:121] Found more than one metagraph event per run. Overwriting the metagraph with the newest event.\n",
      "\u001b[0mTensorBoard 1.7.0a20180320 at http://Nilays-MacBook-Pro.local:6006 (Press CTRL+C to quit)\n"
     ]
    }
   ],
   "source": [
    "!tensorboard --logdir='model-logs'"
   ]
  },
  {
   "cell_type": "code",
   "execution_count": null,
   "metadata": {},
   "outputs": [],
   "source": []
  }
 ],
 "metadata": {
  "kernelspec": {
   "display_name": "tfbeta3",
   "language": "python",
   "name": "tfbeta3"
  },
  "language_info": {
   "codemirror_mode": {
    "name": "ipython",
    "version": 3
   },
   "file_extension": ".py",
   "mimetype": "text/x-python",
   "name": "python",
   "nbconvert_exporter": "python",
   "pygments_lexer": "ipython3",
   "version": "3.6.4"
  }
 },
 "nbformat": 4,
 "nbformat_minor": 2
}
