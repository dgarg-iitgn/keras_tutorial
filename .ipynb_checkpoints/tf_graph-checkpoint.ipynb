{
 "cells": [
  {
   "cell_type": "code",
   "execution_count": 4,
   "metadata": {},
   "outputs": [],
   "source": [
    "import tensorflow as tf\n",
    "import numpy as np\n",
    "# tf.enable_eager_execution()"
   ]
  },
  {
   "cell_type": "code",
   "execution_count": 2,
   "metadata": {},
   "outputs": [],
   "source": [
    "x = np.random.uniform(0,1,[50,10])\n",
    "w = np.random.uniform(0,1,[10,1])\n",
    "b = np.random.uniform(0,1,[50,1])\n",
    "y = np.dot(x,w)+b"
   ]
  },
  {
   "cell_type": "code",
   "execution_count": 3,
   "metadata": {},
   "outputs": [
    {
     "name": "stdout",
     "output_type": "stream",
     "text": [
      "WARNING:tensorflow:From /anaconda/envs/tfbeta3/lib/python3.6/site-packages/tensorflow/python/util/tf_should_use.py:118: initialize_variables (from tensorflow.python.ops.variables) is deprecated and will be removed after 2017-03-02.\n",
      "Instructions for updating:\n",
      "Use `tf.variables_initializer` instead.\n"
     ]
    }
   ],
   "source": [
    "x = tf.random_normal([50,10],name='x')\n",
    "w = tf.get_variable(\"w\", shape=(10,1), initializer=tf.random_normal_initializer())\n",
    "b = tf.get_variable(\"b\", shape=(50,1), initializer=tf.random_normal_initializer())\n",
    "y = tf.matmul(x,w)*b\n",
    "with tf.Session() as sess:\n",
    "    sess.run(tf.initialize_variables([w,b]))\n",
    "    res = sess.run(y)"
   ]
  }
 ],
 "metadata": {
  "kernelspec": {
   "display_name": "tfbeta3",
   "language": "python",
   "name": "tfbeta3"
  },
  "language_info": {
   "codemirror_mode": {
    "name": "ipython",
    "version": 3
   },
   "file_extension": ".py",
   "mimetype": "text/x-python",
   "name": "python",
   "nbconvert_exporter": "python",
   "pygments_lexer": "ipython3",
   "version": "3.6.4"
  }
 },
 "nbformat": 4,
 "nbformat_minor": 2
}
